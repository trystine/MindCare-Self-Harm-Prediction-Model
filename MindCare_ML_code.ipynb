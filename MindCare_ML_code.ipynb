{
 "cells": [
  {
   "cell_type": "code",
   "execution_count": 2,
   "metadata": {},
   "outputs": [],
   "source": [
    "#importing libraries\n",
    "from sklearn.ensemble import RandomForestClassifier\n",
    "from sklearn.feature_selection import SelectFromModel #this is used to keep a threshold for our randomforest feature selection\n",
    "from sklearn.metrics import mean_absolute_error, accuracy_score\n",
    "from sklearn.model_selection import train_test_split\n",
    "from sklearn.ensemble import RandomForestClassifier\n",
    "from sklearn.model_selection import GridSearchCV #hyperparameter tuning\n",
    "from sklearn.model_selection import StratifiedKFold\n",
    "import pandas as pd\n",
    "import seaborn as sns\n",
    "import matplotlib \n",
    "import numpy as np\n",
    "import pickle\n",
    "import warnings\n",
    "warnings.filterwarnings('ignore')\n",
    "\n",
    "np.random.seed(42)"
   ]
  },
  {
   "cell_type": "code",
   "execution_count": 3,
   "metadata": {},
   "outputs": [],
   "source": [
    "#importing dataset curated for the project based on analysis\n",
    "data=pd.read_csv('RealPred3.csv')"
   ]
  },
  {
   "cell_type": "markdown",
   "metadata": {},
   "source": [
    "<h1>Data Cleaning"
   ]
  },
  {
   "cell_type": "code",
   "execution_count": 4,
   "metadata": {},
   "outputs": [
    {
     "name": "stdout",
     "output_type": "stream",
     "text": [
      "<class 'pandas.core.frame.DataFrame'>\n",
      "RangeIndex: 353 entries, 0 to 352\n",
      "Data columns (total 29 columns):\n",
      "Gender                                                                                            353 non-null object\n",
      "Age                                                                                               353 non-null int64\n",
      "Income                                                                                            353 non-null object\n",
      "Bodyweight in kg(kilogram)                                                                        353 non-null int64\n",
      "Sexuality                                                                                         353 non-null object\n",
      "Virgin                                                                                            353 non-null object\n",
      "No_of_friends                                                                                     353 non-null int64\n",
      "SocialFear                                                                                        353 non-null object\n",
      "employment                                                                                        353 non-null object\n",
      "EducationStatus                                                                                   353 non-null object\n",
      "Insomnia                                                                                          353 non-null object\n",
      "Onantidepressant                                                                                  353 non-null object\n",
      "Able_to_communicate_oppsex                                                                        353 non-null object\n",
      "Relationship_Status                                                                               353 non-null object\n",
      "appetite                                                                                          353 non-null object\n",
      "Anger_issues                                                                                      353 non-null object\n",
      "Feeling_lost_in_life                                                                              353 non-null object\n",
      "selfloathing                                                                                      353 non-null object\n",
      "any_previous_trauma                                                                               353 non-null object\n",
      "Been_a_victim_of_bullying_and_ragging                                                             353 non-null object\n",
      "Alcohol                                                                                           353 non-null object\n",
      "Drugs                                                                                             353 non-null object\n",
      "Family_Issues                                                                                     353 non-null object\n",
      "Any_chronic_disease                                                                               353 non-null object\n",
      "Any_attempt_of_Suicide                                                                            353 non-null object\n",
      "Selfharm                                                                                          353 non-null object\n",
      "How do you deal with stressful situation in life?                                                 352 non-null object\n",
      "What kind of help you would want yourself to have when you are facing a psychological problem?    350 non-null object\n",
      "What is that one thing that you would like to improve about yourself?                             351 non-null object\n",
      "dtypes: int64(3), object(26)\n",
      "memory usage: 80.1+ KB\n"
     ]
    }
   ],
   "source": [
    "#checking for null values\n",
    "data.info()\n"
   ]
  },
  {
   "cell_type": "code",
   "execution_count": 5,
   "metadata": {
    "scrolled": true
   },
   "outputs": [
    {
     "data": {
      "text/html": [
       "<div>\n",
       "<style scoped>\n",
       "    .dataframe tbody tr th:only-of-type {\n",
       "        vertical-align: middle;\n",
       "    }\n",
       "\n",
       "    .dataframe tbody tr th {\n",
       "        vertical-align: top;\n",
       "    }\n",
       "\n",
       "    .dataframe thead th {\n",
       "        text-align: right;\n",
       "    }\n",
       "</style>\n",
       "<table border=\"1\" class=\"dataframe\">\n",
       "  <thead>\n",
       "    <tr style=\"text-align: right;\">\n",
       "      <th></th>\n",
       "      <th>Gender</th>\n",
       "      <th>Age</th>\n",
       "      <th>Income</th>\n",
       "      <th>Bodyweight in kg(kilogram)</th>\n",
       "      <th>Sexuality</th>\n",
       "      <th>Virgin</th>\n",
       "      <th>No_of_friends</th>\n",
       "      <th>SocialFear</th>\n",
       "      <th>employment</th>\n",
       "      <th>EducationStatus</th>\n",
       "      <th>...</th>\n",
       "      <th>Feeling_lost_in_life</th>\n",
       "      <th>selfloathing</th>\n",
       "      <th>any_previous_trauma</th>\n",
       "      <th>Been_a_victim_of_bullying_and_ragging</th>\n",
       "      <th>Alcohol</th>\n",
       "      <th>Drugs</th>\n",
       "      <th>Family_Issues</th>\n",
       "      <th>Any_chronic_disease</th>\n",
       "      <th>Any_attempt_of_Suicide</th>\n",
       "      <th>Selfharm</th>\n",
       "    </tr>\n",
       "  </thead>\n",
       "  <tbody>\n",
       "    <tr>\n",
       "      <th>0</th>\n",
       "      <td>Female</td>\n",
       "      <td>21</td>\n",
       "      <td>0</td>\n",
       "      <td>64</td>\n",
       "      <td>Other</td>\n",
       "      <td>Yes</td>\n",
       "      <td>3</td>\n",
       "      <td>No</td>\n",
       "      <td>Not Employed(Student)</td>\n",
       "      <td>Current Student</td>\n",
       "      <td>...</td>\n",
       "      <td>Yes</td>\n",
       "      <td>Yes</td>\n",
       "      <td>No</td>\n",
       "      <td>No</td>\n",
       "      <td>Yearly</td>\n",
       "      <td>Don't do drugs</td>\n",
       "      <td>Yes</td>\n",
       "      <td>No</td>\n",
       "      <td>Once</td>\n",
       "      <td>No</td>\n",
       "    </tr>\n",
       "    <tr>\n",
       "      <th>1</th>\n",
       "      <td>Female</td>\n",
       "      <td>21</td>\n",
       "      <td>0</td>\n",
       "      <td>73</td>\n",
       "      <td>Straight</td>\n",
       "      <td>Yes</td>\n",
       "      <td>15</td>\n",
       "      <td>No</td>\n",
       "      <td>Not Employed(Student)</td>\n",
       "      <td>Current Student</td>\n",
       "      <td>...</td>\n",
       "      <td>Yes</td>\n",
       "      <td>No</td>\n",
       "      <td>Yes</td>\n",
       "      <td>No</td>\n",
       "      <td>Don't Drink</td>\n",
       "      <td>Don't do drugs</td>\n",
       "      <td>No</td>\n",
       "      <td>No</td>\n",
       "      <td>Few times in past</td>\n",
       "      <td>No</td>\n",
       "    </tr>\n",
       "    <tr>\n",
       "      <th>2</th>\n",
       "      <td>Male</td>\n",
       "      <td>20</td>\n",
       "      <td>0</td>\n",
       "      <td>85</td>\n",
       "      <td>Straight</td>\n",
       "      <td>Yes</td>\n",
       "      <td>10</td>\n",
       "      <td>Yes</td>\n",
       "      <td>Not Employed(Student)</td>\n",
       "      <td>Current Student</td>\n",
       "      <td>...</td>\n",
       "      <td>Yes</td>\n",
       "      <td>No</td>\n",
       "      <td>No</td>\n",
       "      <td>Yes</td>\n",
       "      <td>Don't Drink</td>\n",
       "      <td>Don't do drugs</td>\n",
       "      <td>No</td>\n",
       "      <td>No</td>\n",
       "      <td>Few times in past</td>\n",
       "      <td>No</td>\n",
       "    </tr>\n",
       "    <tr>\n",
       "      <th>3</th>\n",
       "      <td>Female</td>\n",
       "      <td>25</td>\n",
       "      <td>1 lakh to 2 lakh</td>\n",
       "      <td>54</td>\n",
       "      <td>Straight</td>\n",
       "      <td>Yes</td>\n",
       "      <td>5</td>\n",
       "      <td>No</td>\n",
       "      <td>Full time Employee</td>\n",
       "      <td>Passout</td>\n",
       "      <td>...</td>\n",
       "      <td>No</td>\n",
       "      <td>No</td>\n",
       "      <td>No</td>\n",
       "      <td>No</td>\n",
       "      <td>Don't Drink</td>\n",
       "      <td>Don't do drugs</td>\n",
       "      <td>No</td>\n",
       "      <td>No</td>\n",
       "      <td>Few times in past</td>\n",
       "      <td>No</td>\n",
       "    </tr>\n",
       "    <tr>\n",
       "      <th>4</th>\n",
       "      <td>Female</td>\n",
       "      <td>21</td>\n",
       "      <td>0</td>\n",
       "      <td>73</td>\n",
       "      <td>Straight</td>\n",
       "      <td>Yes</td>\n",
       "      <td>15</td>\n",
       "      <td>No</td>\n",
       "      <td>Not Employed(Student)</td>\n",
       "      <td>Current Student</td>\n",
       "      <td>...</td>\n",
       "      <td>Yes</td>\n",
       "      <td>No</td>\n",
       "      <td>Yes</td>\n",
       "      <td>No</td>\n",
       "      <td>Don't Drink</td>\n",
       "      <td>Don't do drugs</td>\n",
       "      <td>Yes</td>\n",
       "      <td>No</td>\n",
       "      <td>Never</td>\n",
       "      <td>No</td>\n",
       "    </tr>\n",
       "  </tbody>\n",
       "</table>\n",
       "<p>5 rows × 26 columns</p>\n",
       "</div>"
      ],
      "text/plain": [
       "   Gender  Age            Income  Bodyweight in kg(kilogram) Sexuality Virgin  \\\n",
       "0  Female   21                 0                          64     Other    Yes   \n",
       "1  Female   21                 0                          73  Straight    Yes   \n",
       "2    Male   20                 0                          85  Straight    Yes   \n",
       "3  Female   25  1 lakh to 2 lakh                          54  Straight    Yes   \n",
       "4  Female   21                 0                          73  Straight    Yes   \n",
       "\n",
       "   No_of_friends SocialFear             employment  EducationStatus  ...  \\\n",
       "0              3         No  Not Employed(Student)  Current Student  ...   \n",
       "1             15         No  Not Employed(Student)  Current Student  ...   \n",
       "2             10        Yes  Not Employed(Student)  Current Student  ...   \n",
       "3              5         No     Full time Employee          Passout  ...   \n",
       "4             15         No  Not Employed(Student)  Current Student  ...   \n",
       "\n",
       "  Feeling_lost_in_life selfloathing any_previous_trauma  \\\n",
       "0                  Yes          Yes                  No   \n",
       "1                  Yes           No                 Yes   \n",
       "2                  Yes           No                  No   \n",
       "3                   No           No                  No   \n",
       "4                  Yes           No                 Yes   \n",
       "\n",
       "  Been_a_victim_of_bullying_and_ragging      Alcohol           Drugs  \\\n",
       "0                                    No       Yearly  Don't do drugs   \n",
       "1                                    No  Don't Drink  Don't do drugs   \n",
       "2                                   Yes  Don't Drink  Don't do drugs   \n",
       "3                                    No  Don't Drink  Don't do drugs   \n",
       "4                                    No  Don't Drink  Don't do drugs   \n",
       "\n",
       "  Family_Issues Any_chronic_disease Any_attempt_of_Suicide Selfharm  \n",
       "0           Yes                  No                   Once       No  \n",
       "1            No                  No      Few times in past       No  \n",
       "2            No                  No      Few times in past       No  \n",
       "3            No                  No      Few times in past       No  \n",
       "4           Yes                  No                  Never       No  \n",
       "\n",
       "[5 rows x 26 columns]"
      ]
     },
     "execution_count": 5,
     "metadata": {},
     "output_type": "execute_result"
    }
   ],
   "source": [
    "#dropping unwanted columns\n",
    "cols = ['How do you deal with stressful situation in life? ', 'What kind of help you would want yourself to have when you are facing a psychological problem?',\n",
    "       'What is that one thing that you would like to improve about yourself?']\n",
    "data = data.drop(cols,axis = 1)\n",
    "data.head()"
   ]
  },
  {
   "cell_type": "markdown",
   "metadata": {},
   "source": [
    "<h1>Feature encoding </h1>\n",
    "<br>-> Since the input parameters for the problem statement would be mix of categories. We are bifurcating into categorical and binary valued features for our understanding and setting pivot as the final parameters we are considering as one. Setting the target as Self-harm."
   ]
  },
  {
   "cell_type": "code",
   "execution_count": 6,
   "metadata": {},
   "outputs": [],
   "source": [
    "cate_col = ['Gender', 'Sexuality', 'employment', 'EducationStatus', 'Income','Relationship_Status','Alcohol',\n",
    "            'Drugs','Any_attempt_of_Suicide' ]\n",
    "bin_col = ['SocialFear', 'Virgin', 'Insomnia', 'Onantidepressant','Able_to_communicate_oppsex','appetite','Anger_issues',\n",
    "           'Feeling_lost_in_life','selfloathing','any_previous_trauma',\n",
    "           'Been_a_victim_of_bullying_and_ragging','Family_Issues','Any_chronic_disease']\n",
    "#text_col = ['job_title', 'what_help_from_others', 'improve_yourself_how']\n",
    "\n",
    "pivot = ['Gender', 'Sexuality', 'Virgin','employment', 'EducationStatus', 'Income','Relationship_Status',\n",
    "         'Alcohol',\n",
    "         'Drugs','Any_attempt_of_Suicide',  'Able_to_communicate_oppsex',\n",
    "         'SocialFear', 'Insomnia', 'Onantidepressant','appetite','Anger_issues','Feeling_lost_in_life','selfloathing','any_previous_trauma',\n",
    "         'Been_a_victim_of_bullying_and_ragging','Family_Issues','Any_chronic_disease']\n",
    "Target = ['Selfharm']"
   ]
  },
  {
   "cell_type": "code",
   "execution_count": 7,
   "metadata": {},
   "outputs": [],
   "source": [
    "#Convert Target Variable to 0/1\n",
    "data['Selfharm'] = np.where(data['Selfharm'].str.contains(\"Yes\"),1,0)"
   ]
  },
  {
   "cell_type": "code",
   "execution_count": 8,
   "metadata": {},
   "outputs": [
    {
     "data": {
      "text/html": [
       "<div>\n",
       "<style scoped>\n",
       "    .dataframe tbody tr th:only-of-type {\n",
       "        vertical-align: middle;\n",
       "    }\n",
       "\n",
       "    .dataframe tbody tr th {\n",
       "        vertical-align: top;\n",
       "    }\n",
       "\n",
       "    .dataframe thead th {\n",
       "        text-align: right;\n",
       "    }\n",
       "</style>\n",
       "<table border=\"1\" class=\"dataframe\">\n",
       "  <thead>\n",
       "    <tr style=\"text-align: right;\">\n",
       "      <th></th>\n",
       "      <th>Gender</th>\n",
       "      <th>Age</th>\n",
       "      <th>Income</th>\n",
       "      <th>Bodyweight in kg(kilogram)</th>\n",
       "      <th>Sexuality</th>\n",
       "      <th>Virgin</th>\n",
       "      <th>No_of_friends</th>\n",
       "      <th>SocialFear</th>\n",
       "      <th>employment</th>\n",
       "      <th>EducationStatus</th>\n",
       "      <th>...</th>\n",
       "      <th>Feeling_lost_in_life</th>\n",
       "      <th>selfloathing</th>\n",
       "      <th>any_previous_trauma</th>\n",
       "      <th>Been_a_victim_of_bullying_and_ragging</th>\n",
       "      <th>Alcohol</th>\n",
       "      <th>Drugs</th>\n",
       "      <th>Family_Issues</th>\n",
       "      <th>Any_chronic_disease</th>\n",
       "      <th>Any_attempt_of_Suicide</th>\n",
       "      <th>Selfharm</th>\n",
       "    </tr>\n",
       "  </thead>\n",
       "  <tbody>\n",
       "    <tr>\n",
       "      <th>0</th>\n",
       "      <td>1</td>\n",
       "      <td>21</td>\n",
       "      <td>0</td>\n",
       "      <td>64</td>\n",
       "      <td>2</td>\n",
       "      <td>Yes</td>\n",
       "      <td>3</td>\n",
       "      <td>No</td>\n",
       "      <td>0</td>\n",
       "      <td>3</td>\n",
       "      <td>...</td>\n",
       "      <td>Yes</td>\n",
       "      <td>Yes</td>\n",
       "      <td>No</td>\n",
       "      <td>No</td>\n",
       "      <td>4</td>\n",
       "      <td>0</td>\n",
       "      <td>Yes</td>\n",
       "      <td>No</td>\n",
       "      <td>1</td>\n",
       "      <td>0</td>\n",
       "    </tr>\n",
       "    <tr>\n",
       "      <th>1</th>\n",
       "      <td>1</td>\n",
       "      <td>21</td>\n",
       "      <td>0</td>\n",
       "      <td>73</td>\n",
       "      <td>0</td>\n",
       "      <td>Yes</td>\n",
       "      <td>15</td>\n",
       "      <td>No</td>\n",
       "      <td>0</td>\n",
       "      <td>3</td>\n",
       "      <td>...</td>\n",
       "      <td>Yes</td>\n",
       "      <td>No</td>\n",
       "      <td>Yes</td>\n",
       "      <td>No</td>\n",
       "      <td>0</td>\n",
       "      <td>0</td>\n",
       "      <td>No</td>\n",
       "      <td>No</td>\n",
       "      <td>2</td>\n",
       "      <td>0</td>\n",
       "    </tr>\n",
       "    <tr>\n",
       "      <th>2</th>\n",
       "      <td>0</td>\n",
       "      <td>20</td>\n",
       "      <td>0</td>\n",
       "      <td>85</td>\n",
       "      <td>0</td>\n",
       "      <td>Yes</td>\n",
       "      <td>10</td>\n",
       "      <td>Yes</td>\n",
       "      <td>0</td>\n",
       "      <td>3</td>\n",
       "      <td>...</td>\n",
       "      <td>Yes</td>\n",
       "      <td>No</td>\n",
       "      <td>No</td>\n",
       "      <td>Yes</td>\n",
       "      <td>0</td>\n",
       "      <td>0</td>\n",
       "      <td>No</td>\n",
       "      <td>No</td>\n",
       "      <td>2</td>\n",
       "      <td>0</td>\n",
       "    </tr>\n",
       "    <tr>\n",
       "      <th>3</th>\n",
       "      <td>1</td>\n",
       "      <td>25</td>\n",
       "      <td>2</td>\n",
       "      <td>54</td>\n",
       "      <td>0</td>\n",
       "      <td>Yes</td>\n",
       "      <td>5</td>\n",
       "      <td>No</td>\n",
       "      <td>1</td>\n",
       "      <td>0</td>\n",
       "      <td>...</td>\n",
       "      <td>No</td>\n",
       "      <td>No</td>\n",
       "      <td>No</td>\n",
       "      <td>No</td>\n",
       "      <td>0</td>\n",
       "      <td>0</td>\n",
       "      <td>No</td>\n",
       "      <td>No</td>\n",
       "      <td>2</td>\n",
       "      <td>0</td>\n",
       "    </tr>\n",
       "    <tr>\n",
       "      <th>4</th>\n",
       "      <td>1</td>\n",
       "      <td>21</td>\n",
       "      <td>0</td>\n",
       "      <td>73</td>\n",
       "      <td>0</td>\n",
       "      <td>Yes</td>\n",
       "      <td>15</td>\n",
       "      <td>No</td>\n",
       "      <td>0</td>\n",
       "      <td>3</td>\n",
       "      <td>...</td>\n",
       "      <td>Yes</td>\n",
       "      <td>No</td>\n",
       "      <td>Yes</td>\n",
       "      <td>No</td>\n",
       "      <td>0</td>\n",
       "      <td>0</td>\n",
       "      <td>Yes</td>\n",
       "      <td>No</td>\n",
       "      <td>0</td>\n",
       "      <td>0</td>\n",
       "    </tr>\n",
       "  </tbody>\n",
       "</table>\n",
       "<p>5 rows × 26 columns</p>\n",
       "</div>"
      ],
      "text/plain": [
       "   Gender  Age  Income  Bodyweight in kg(kilogram)  Sexuality Virgin  \\\n",
       "0       1   21       0                          64          2    Yes   \n",
       "1       1   21       0                          73          0    Yes   \n",
       "2       0   20       0                          85          0    Yes   \n",
       "3       1   25       2                          54          0    Yes   \n",
       "4       1   21       0                          73          0    Yes   \n",
       "\n",
       "   No_of_friends SocialFear  employment  EducationStatus  ...  \\\n",
       "0              3         No           0                3  ...   \n",
       "1             15         No           0                3  ...   \n",
       "2             10        Yes           0                3  ...   \n",
       "3              5         No           1                0  ...   \n",
       "4             15         No           0                3  ...   \n",
       "\n",
       "  Feeling_lost_in_life selfloathing any_previous_trauma  \\\n",
       "0                  Yes          Yes                  No   \n",
       "1                  Yes           No                 Yes   \n",
       "2                  Yes           No                  No   \n",
       "3                   No           No                  No   \n",
       "4                  Yes           No                 Yes   \n",
       "\n",
       "   Been_a_victim_of_bullying_and_ragging Alcohol Drugs Family_Issues  \\\n",
       "0                                     No       4     0           Yes   \n",
       "1                                     No       0     0            No   \n",
       "2                                    Yes       0     0            No   \n",
       "3                                     No       0     0            No   \n",
       "4                                     No       0     0           Yes   \n",
       "\n",
       "  Any_chronic_disease Any_attempt_of_Suicide Selfharm  \n",
       "0                  No                      1        0  \n",
       "1                  No                      2        0  \n",
       "2                  No                      2        0  \n",
       "3                  No                      2        0  \n",
       "4                  No                      0        0  \n",
       "\n",
       "[5 rows x 26 columns]"
      ]
     },
     "execution_count": 8,
     "metadata": {},
     "output_type": "execute_result"
    }
   ],
   "source": [
    "#Encode the categorical numerical values Manually.\n",
    "encoding = {\n",
    "            'Income': {'0': 0,'below 1 lakh': 1, '1 lakh to 2 lakh': 2, '2 to 5 lakh': 3, '5 lakh above': 4},\n",
    "            'Alcohol':{\"Don't Drink\": 0,'Regularly':1,'Weekly':2,'Monthly':3,'Yearly':4},\n",
    "            'Drugs':{\"Don't do drugs\": 0,'Regularly':1,'Weekly':2,'Monthly':3,'Yearly':4},\n",
    "            'Any_attempt_of_Suicide':{'Never':0,'Once':1,'Few times in past':2,'Refuse to answer':3},\n",
    "            'EducationStatus':{'Passout':0,'Repeater':1,'Dropout':2,'Current Student':3},\n",
    "            'Relationship_Status':{'Single':0,'Married':1,'In-relationship':2},\n",
    "            'employment':{'Not Employed(Student)':0,'Full time Employee':1,'Self Employed':2,'Part-time Employee':3},\n",
    "            'Sexuality':{'Straight':0,'Bisexual':1,'Other':2},\n",
    "            'Gender':{'Male':0,'Female':1,'Prefer not to say':2}\n",
    "           }\n",
    "           \n",
    "data.replace(encoding, inplace=True)\n",
    "data.head()"
   ]
  },
  {
   "cell_type": "code",
   "execution_count": 9,
   "metadata": {},
   "outputs": [
    {
     "data": {
      "text/html": [
       "<div>\n",
       "<style scoped>\n",
       "    .dataframe tbody tr th:only-of-type {\n",
       "        vertical-align: middle;\n",
       "    }\n",
       "\n",
       "    .dataframe tbody tr th {\n",
       "        vertical-align: top;\n",
       "    }\n",
       "\n",
       "    .dataframe thead th {\n",
       "        text-align: right;\n",
       "    }\n",
       "</style>\n",
       "<table border=\"1\" class=\"dataframe\">\n",
       "  <thead>\n",
       "    <tr style=\"text-align: right;\">\n",
       "      <th></th>\n",
       "      <th>Gender</th>\n",
       "      <th>Age</th>\n",
       "      <th>Income</th>\n",
       "      <th>Bodyweight in kg(kilogram)</th>\n",
       "      <th>Sexuality</th>\n",
       "      <th>Virgin</th>\n",
       "      <th>No_of_friends</th>\n",
       "      <th>SocialFear</th>\n",
       "      <th>employment</th>\n",
       "      <th>EducationStatus</th>\n",
       "      <th>...</th>\n",
       "      <th>Feeling_lost_in_life</th>\n",
       "      <th>selfloathing</th>\n",
       "      <th>any_previous_trauma</th>\n",
       "      <th>Been_a_victim_of_bullying_and_ragging</th>\n",
       "      <th>Alcohol</th>\n",
       "      <th>Drugs</th>\n",
       "      <th>Family_Issues</th>\n",
       "      <th>Any_chronic_disease</th>\n",
       "      <th>Any_attempt_of_Suicide</th>\n",
       "      <th>Selfharm</th>\n",
       "    </tr>\n",
       "  </thead>\n",
       "  <tbody>\n",
       "    <tr>\n",
       "      <th>0</th>\n",
       "      <td>1</td>\n",
       "      <td>21</td>\n",
       "      <td>0</td>\n",
       "      <td>64</td>\n",
       "      <td>2</td>\n",
       "      <td>1</td>\n",
       "      <td>3</td>\n",
       "      <td>0</td>\n",
       "      <td>0</td>\n",
       "      <td>3</td>\n",
       "      <td>...</td>\n",
       "      <td>1</td>\n",
       "      <td>1</td>\n",
       "      <td>0</td>\n",
       "      <td>0</td>\n",
       "      <td>4</td>\n",
       "      <td>0</td>\n",
       "      <td>1</td>\n",
       "      <td>0</td>\n",
       "      <td>1</td>\n",
       "      <td>0</td>\n",
       "    </tr>\n",
       "    <tr>\n",
       "      <th>1</th>\n",
       "      <td>1</td>\n",
       "      <td>21</td>\n",
       "      <td>0</td>\n",
       "      <td>73</td>\n",
       "      <td>0</td>\n",
       "      <td>1</td>\n",
       "      <td>15</td>\n",
       "      <td>0</td>\n",
       "      <td>0</td>\n",
       "      <td>3</td>\n",
       "      <td>...</td>\n",
       "      <td>1</td>\n",
       "      <td>0</td>\n",
       "      <td>1</td>\n",
       "      <td>0</td>\n",
       "      <td>0</td>\n",
       "      <td>0</td>\n",
       "      <td>0</td>\n",
       "      <td>0</td>\n",
       "      <td>2</td>\n",
       "      <td>0</td>\n",
       "    </tr>\n",
       "    <tr>\n",
       "      <th>2</th>\n",
       "      <td>0</td>\n",
       "      <td>20</td>\n",
       "      <td>0</td>\n",
       "      <td>85</td>\n",
       "      <td>0</td>\n",
       "      <td>1</td>\n",
       "      <td>10</td>\n",
       "      <td>1</td>\n",
       "      <td>0</td>\n",
       "      <td>3</td>\n",
       "      <td>...</td>\n",
       "      <td>1</td>\n",
       "      <td>0</td>\n",
       "      <td>0</td>\n",
       "      <td>1</td>\n",
       "      <td>0</td>\n",
       "      <td>0</td>\n",
       "      <td>0</td>\n",
       "      <td>0</td>\n",
       "      <td>2</td>\n",
       "      <td>0</td>\n",
       "    </tr>\n",
       "    <tr>\n",
       "      <th>3</th>\n",
       "      <td>1</td>\n",
       "      <td>25</td>\n",
       "      <td>2</td>\n",
       "      <td>54</td>\n",
       "      <td>0</td>\n",
       "      <td>1</td>\n",
       "      <td>5</td>\n",
       "      <td>0</td>\n",
       "      <td>1</td>\n",
       "      <td>0</td>\n",
       "      <td>...</td>\n",
       "      <td>0</td>\n",
       "      <td>0</td>\n",
       "      <td>0</td>\n",
       "      <td>0</td>\n",
       "      <td>0</td>\n",
       "      <td>0</td>\n",
       "      <td>0</td>\n",
       "      <td>0</td>\n",
       "      <td>2</td>\n",
       "      <td>0</td>\n",
       "    </tr>\n",
       "    <tr>\n",
       "      <th>4</th>\n",
       "      <td>1</td>\n",
       "      <td>21</td>\n",
       "      <td>0</td>\n",
       "      <td>73</td>\n",
       "      <td>0</td>\n",
       "      <td>1</td>\n",
       "      <td>15</td>\n",
       "      <td>0</td>\n",
       "      <td>0</td>\n",
       "      <td>3</td>\n",
       "      <td>...</td>\n",
       "      <td>1</td>\n",
       "      <td>0</td>\n",
       "      <td>1</td>\n",
       "      <td>0</td>\n",
       "      <td>0</td>\n",
       "      <td>0</td>\n",
       "      <td>1</td>\n",
       "      <td>0</td>\n",
       "      <td>0</td>\n",
       "      <td>0</td>\n",
       "    </tr>\n",
       "  </tbody>\n",
       "</table>\n",
       "<p>5 rows × 26 columns</p>\n",
       "</div>"
      ],
      "text/plain": [
       "   Gender  Age  Income  Bodyweight in kg(kilogram)  Sexuality  Virgin  \\\n",
       "0       1   21       0                          64          2       1   \n",
       "1       1   21       0                          73          0       1   \n",
       "2       0   20       0                          85          0       1   \n",
       "3       1   25       2                          54          0       1   \n",
       "4       1   21       0                          73          0       1   \n",
       "\n",
       "   No_of_friends  SocialFear  employment  EducationStatus  ...  \\\n",
       "0              3           0           0                3  ...   \n",
       "1             15           0           0                3  ...   \n",
       "2             10           1           0                3  ...   \n",
       "3              5           0           1                0  ...   \n",
       "4             15           0           0                3  ...   \n",
       "\n",
       "   Feeling_lost_in_life  selfloathing  any_previous_trauma  \\\n",
       "0                     1             1                    0   \n",
       "1                     1             0                    1   \n",
       "2                     1             0                    0   \n",
       "3                     0             0                    0   \n",
       "4                     1             0                    1   \n",
       "\n",
       "   Been_a_victim_of_bullying_and_ragging  Alcohol  Drugs  Family_Issues  \\\n",
       "0                                      0        4      0              1   \n",
       "1                                      0        0      0              0   \n",
       "2                                      1        0      0              0   \n",
       "3                                      0        0      0              0   \n",
       "4                                      0        0      0              1   \n",
       "\n",
       "   Any_chronic_disease  Any_attempt_of_Suicide  Selfharm  \n",
       "0                    0                       1         0  \n",
       "1                    0                       2         0  \n",
       "2                    0                       2         0  \n",
       "3                    0                       2         0  \n",
       "4                    0                       0         0  \n",
       "\n",
       "[5 rows x 26 columns]"
      ]
     },
     "execution_count": 9,
     "metadata": {},
     "output_type": "execute_result"
    }
   ],
   "source": [
    "#Encode binary variable. Note you can also use one hot encoding, a better way to deal with large sets of features.\n",
    "bin_col = ['SocialFear', 'Virgin', 'Insomnia', 'Onantidepressant','Able_to_communicate_oppsex','appetite','Anger_issues',\n",
    "           'Feeling_lost_in_life','selfloathing','any_previous_trauma',\n",
    "           'Been_a_victim_of_bullying_and_ragging','Family_Issues','Any_chronic_disease']\n",
    "\n",
    "for i in bin_col:\n",
    "  data[i] = np.where(data[i].str.contains(\"Yes\"),1,0)\n",
    "data.head()"
   ]
  },
  {
   "cell_type": "code",
   "execution_count": 10,
   "metadata": {},
   "outputs": [],
   "source": [
    "with open('Pickles/data.pickle', 'wb') as output:\n",
    "    pickle.dump(data, output)"
   ]
  },
  {
   "cell_type": "code",
   "execution_count": 11,
   "metadata": {},
   "outputs": [],
   "source": [
    "data.to_csv('coded_data.csv', index=False)"
   ]
  },
  {
   "cell_type": "markdown",
   "metadata": {},
   "source": [
    "<h1>Training the data set using Random Forest Classifier </h1>\n",
    "<br>Once dataset is done encoding. We will start with training the data set.\n"
   ]
  },
  {
   "cell_type": "code",
   "execution_count": 9,
   "metadata": {},
   "outputs": [],
   "source": [
    "#Slicing dataset\n",
    "X = data.drop(['Selfharm'], axis = 1)\n",
    "y = data['Selfharm']"
   ]
  },
  {
   "cell_type": "code",
   "execution_count": 10,
   "metadata": {},
   "outputs": [],
   "source": [
    "# Splitting X and y into training and testing sets with 60% as training data and 40% as test\n",
    "from sklearn.model_selection import train_test_split \n",
    "X_train, X_test, y_train, y_test = train_test_split(X, y, test_size=0.4, random_state=1) "
   ]
  },
  {
   "cell_type": "code",
   "execution_count": 137,
   "metadata": {},
   "outputs": [],
   "source": [
    "# X_train\n",
    "with open('Pickles/X_train.pickle', 'wb') as output:\n",
    "    pickle.dump(X_train, output)\n",
    "    \n",
    "# X_test    \n",
    "with open('Pickles/X_test.pickle', 'wb') as output:\n",
    "    pickle.dump(X_test, output)\n",
    "    \n",
    "# y_train\n",
    "with open('Pickles/y_train.pickle', 'wb') as output:\n",
    "    pickle.dump(y_train, output)\n",
    "    \n",
    "# y_test\n",
    "with open('Pickles/y_test.pickle', 'wb') as output:\n",
    "    pickle.dump(y_test, output)"
   ]
  },
  {
   "cell_type": "markdown",
   "metadata": {},
   "source": [
    "***Before jumping to the implementation. There are few points to keep in Mind:\n",
    "We have selected random forest classifier for our training. One of the main reason we have selected it is because it performs really well when compared with other algorithms. For that you need to refer the Algorithms Experimented Notebook.***\n",
    "\n",
    "The implementation of the algorithm is divided into various parts:"
   ]
  },
  {
   "cell_type": "markdown",
   "metadata": {},
   "source": [
    "<h3>A) Using Grid Search CV for best hyperparameters.</h3>"
   ]
  },
  {
   "cell_type": "code",
   "execution_count": 11,
   "metadata": {},
   "outputs": [
    {
     "data": {
      "text/plain": [
       "GridSearchCV(cv=StratifiedKFold(n_splits=20, random_state=15, shuffle=True),\n",
       "             error_score=nan,\n",
       "             estimator=RandomForestClassifier(bootstrap=True, ccp_alpha=0.0,\n",
       "                                              class_weight=None,\n",
       "                                              criterion='gini', max_depth=None,\n",
       "                                              max_features='auto',\n",
       "                                              max_leaf_nodes=None,\n",
       "                                              max_samples=None,\n",
       "                                              min_impurity_decrease=0.0,\n",
       "                                              min_impurity_split=None,\n",
       "                                              min_samples_leaf=1,\n",
       "                                              min_samples_split=2,\n",
       "                                              min_weight_fraction_leaf=0.0,\n",
       "                                              n_estimators=100, n_jobs=None,\n",
       "                                              oob_score=False,\n",
       "                                              random_state=None, verbose=0,\n",
       "                                              warm_start=False),\n",
       "             iid='deprecated', n_jobs=-1,\n",
       "             param_grid={'max_depth': range(1, 30),\n",
       "                         'n_estimators': [100, 150, 200, 250, 300, 350]},\n",
       "             pre_dispatch='2*n_jobs', refit=True, return_train_score=False,\n",
       "             scoring=None, verbose=0)"
      ]
     },
     "execution_count": 11,
     "metadata": {},
     "output_type": "execute_result"
    }
   ],
   "source": [
    "#first applying grid search on random forest classifier\n",
    "rnd=RandomForestClassifier() #initiating first random forest classifier\n",
    "\n",
    "n_estimators = [100,150,200,250,300,350] #setting a random estimator range\n",
    "max_depth = range(1,30) #and tree depth range\n",
    "\n",
    "\n",
    "\n",
    "parameters = {'n_estimators':n_estimators, \n",
    "         'max_depth':max_depth, \n",
    "        }\n",
    "randomforest_grid = GridSearchCV(rnd,\n",
    "                                 param_grid=parameters,\n",
    "                                 cv=StratifiedKFold(n_splits=20, random_state=15, shuffle=True),\n",
    "                                 n_jobs = -1\n",
    "                                )\n",
    "\n",
    "randomforest_grid.fit(X_train, y_train) #applying the grid search on the training data"
   ]
  },
  {
   "cell_type": "code",
   "execution_count": 12,
   "metadata": {},
   "outputs": [
    {
     "name": "stdout",
     "output_type": "stream",
     "text": [
      "{'max_depth': 15, 'n_estimators': 200}\n",
      "0.9681818181818181\n",
      "RandomForestClassifier(bootstrap=True, ccp_alpha=0.0, class_weight=None,\n",
      "                       criterion='gini', max_depth=15, max_features='auto',\n",
      "                       max_leaf_nodes=None, max_samples=None,\n",
      "                       min_impurity_decrease=0.0, min_impurity_split=None,\n",
      "                       min_samples_leaf=1, min_samples_split=2,\n",
      "                       min_weight_fraction_leaf=0.0, n_estimators=200,\n",
      "                       n_jobs=None, oob_score=False, random_state=None,\n",
      "                       verbose=0, warm_start=False)\n"
     ]
    }
   ],
   "source": [
    "#predicting the best estimators and depth\n",
    "print(randomforest_grid.best_params_)\n",
    "print(randomforest_grid.best_score_)\n",
    "print(randomforest_grid.best_estimator_)"
   ]
  },
  {
   "cell_type": "markdown",
   "metadata": {},
   "source": [
    "***Performance of classifier on the full featured test set***"
   ]
  },
  {
   "cell_type": "code",
   "execution_count": 80,
   "metadata": {},
   "outputs": [
    {
     "name": "stdout",
     "output_type": "stream",
     "text": [
      "0.055037498474121094\n"
     ]
    },
    {
     "data": {
      "text/plain": [
       "0.971830985915493"
      ]
     },
     "execution_count": 80,
     "metadata": {},
     "output_type": "execute_result"
    }
   ],
   "source": [
    "import time\n",
    "start = time.time()\n",
    "final_model=randomforest_grid.best_estimator_\n",
    "final_predictions =final_model.predict(X_test)\n",
    "end = time.time()\n",
    "eval_time = end-start\n",
    "print(eval_time)\n",
    "accuracy_score(y_test, final_predictions)"
   ]
  },
  {
   "cell_type": "code",
   "execution_count": 81,
   "metadata": {},
   "outputs": [],
   "source": [
    "with open('Pickles/final_model.pickle', 'wb') as output:\n",
    "    pickle.dump(final_model, output)"
   ]
  },
  {
   "cell_type": "markdown",
   "metadata": {},
   "source": [
    "<h3>B) Fine Tuning using Feature Importance to find out important features </h3>\n",
    "\n",
    "Before we jump to the prediction on testing dataset. We apply feature importance to minimize the cost and select important features\n",
    "<BR>Using random forest classifier inbuilt feature importance calculating the importance of each feature of training dataset"
   ]
  },
  {
   "cell_type": "code",
   "execution_count": 97,
   "metadata": {},
   "outputs": [
    {
     "name": "stdout",
     "output_type": "stream",
     "text": [
      "                                       importance\n",
      "Any_attempt_of_Suicide                   0.259423\n",
      "any_previous_trauma                      0.141120\n",
      "Insomnia                                 0.070855\n",
      "selfloathing                             0.062999\n",
      "Anger_issues                             0.052489\n",
      "Bodyweight in kg(kilogram)               0.050574\n",
      "Been_a_victim_of_bullying_and_ragging    0.046638\n",
      "No_of_friends                            0.041594\n",
      "Alcohol                                  0.040699\n",
      "Family_Issues                            0.032174\n",
      "Age                                      0.029832\n",
      "SocialFear                               0.023602\n",
      "Drugs                                    0.017943\n",
      "Any_chronic_disease                      0.017715\n",
      "Gender                                   0.015535\n",
      "Relationship_Status                      0.014791\n",
      "Feeling_lost_in_life                     0.013871\n",
      "appetite                                 0.012978\n",
      "Onantidepressant                         0.012722\n",
      "Able_to_communicate_oppsex               0.009734\n",
      "employment                               0.007064\n",
      "Income                                   0.007009\n",
      "Virgin                                   0.006746\n",
      "Sexuality                                0.006394\n",
      "EducationStatus                          0.005497\n"
     ]
    }
   ],
   "source": [
    "feature_importances = pd.DataFrame(final_model.feature_importances_,\n",
    "                                   index = X_train.columns,\n",
    "                                    columns=['importance']).sort_values('importance',ascending=False)\n",
    "print(feature_importances)"
   ]
  },
  {
   "cell_type": "code",
   "execution_count": 98,
   "metadata": {},
   "outputs": [],
   "source": [
    "#Saving the important feature generated using pickle\n",
    "with open('Pickles/feature_importances.pickle', 'wb') as output:\n",
    "    pickle.dump(feature_importances, output)"
   ]
  },
  {
   "cell_type": "markdown",
   "metadata": {},
   "source": [
    "<H3>C)Selection Model for considering new case with curated features</H3>"
   ]
  },
  {
   "cell_type": "code",
   "execution_count": 117,
   "metadata": {},
   "outputs": [],
   "source": [
    "# Creating a selector object that will use the random forest classifier to identify\n",
    "# features that have an importance of more than 0.02\n",
    "from sklearn.feature_selection import SelectFromModel\n",
    "sfm = SelectFromModel(final_model, threshold=0.02)\n",
    "\n"
   ]
  },
  {
   "cell_type": "code",
   "execution_count": 118,
   "metadata": {},
   "outputs": [
    {
     "data": {
      "text/plain": [
       "SelectFromModel(estimator=RandomForestClassifier(bootstrap=True, ccp_alpha=0.0,\n",
       "                                                 class_weight=None,\n",
       "                                                 criterion='gini', max_depth=15,\n",
       "                                                 max_features='auto',\n",
       "                                                 max_leaf_nodes=None,\n",
       "                                                 max_samples=None,\n",
       "                                                 min_impurity_decrease=0.0,\n",
       "                                                 min_impurity_split=None,\n",
       "                                                 min_samples_leaf=1,\n",
       "                                                 min_samples_split=2,\n",
       "                                                 min_weight_fraction_leaf=0.0,\n",
       "                                                 n_estimators=200, n_jobs=None,\n",
       "                                                 oob_score=False,\n",
       "                                                 random_state=None, verbose=0,\n",
       "                                                 warm_start=False),\n",
       "                max_features=None, norm_order=1, prefit=False, threshold=0.02)"
      ]
     },
     "execution_count": 118,
     "metadata": {},
     "output_type": "execute_result"
    }
   ],
   "source": [
    "# Training the selector\n",
    "sfm.fit(X_train, y_train)"
   ]
  },
  {
   "cell_type": "code",
   "execution_count": 119,
   "metadata": {},
   "outputs": [],
   "source": [
    "# Transform the data to create a new dataset containing only the most important features on both test and train data\n",
    "X_important_train = sfm.transform(X_train)\n",
    "X_important_test = sfm.transform(X_test)"
   ]
  },
  {
   "cell_type": "code",
   "execution_count": 120,
   "metadata": {},
   "outputs": [
    {
     "data": {
      "text/plain": [
       "(211, 12)"
      ]
     },
     "execution_count": 120,
     "metadata": {},
     "output_type": "execute_result"
    }
   ],
   "source": [
    "X_important_train.shape"
   ]
  },
  {
   "cell_type": "code",
   "execution_count": 138,
   "metadata": {},
   "outputs": [],
   "source": [
    "with open('Pickles/sfm.pickle', 'wb') as output:\n",
    "    pickle.dump(sfm, output)\n",
    "    \n",
    "# X_important_train\n",
    "with open('Pickles/X_important_train.pickle', 'wb') as output:\n",
    "    pickle.dump(X_important_train, output)\n",
    "    \n",
    "# X_important_test    \n",
    "with open('Pickles/X_important_test.pickle', 'wb') as output:\n",
    "    pickle.dump(X_important_test, output)\n",
    "    "
   ]
  },
  {
   "cell_type": "markdown",
   "metadata": {},
   "source": [
    "<H3>D) Training the new Random Forest Classifier on the curated features. With Grid Search CV for best hyperparameters.</H3>"
   ]
  },
  {
   "cell_type": "code",
   "execution_count": 125,
   "metadata": {},
   "outputs": [
    {
     "data": {
      "text/plain": [
       "GridSearchCV(cv=StratifiedKFold(n_splits=20, random_state=15, shuffle=True),\n",
       "             error_score=nan,\n",
       "             estimator=RandomForestClassifier(bootstrap=True, ccp_alpha=0.0,\n",
       "                                              class_weight=None,\n",
       "                                              criterion='gini', max_depth=None,\n",
       "                                              max_features='auto',\n",
       "                                              max_leaf_nodes=None,\n",
       "                                              max_samples=None,\n",
       "                                              min_impurity_decrease=0.0,\n",
       "                                              min_impurity_split=None,\n",
       "                                              min_samples_leaf=1,\n",
       "                                              min_samples_split=2,\n",
       "                                              min_weight_fraction_leaf=0.0,\n",
       "                                              n_estimators=100, n_jobs=None,\n",
       "                                              oob_score=False,\n",
       "                                              random_state=None, verbose=0,\n",
       "                                              warm_start=False),\n",
       "             iid='deprecated', n_jobs=-1,\n",
       "             param_grid={'max_depth': range(1, 30),\n",
       "                         'n_estimators': [100, 150, 200, 250, 300, 350]},\n",
       "             pre_dispatch='2*n_jobs', refit=True, return_train_score=False,\n",
       "             scoring=None, verbose=0)"
      ]
     },
     "execution_count": 125,
     "metadata": {},
     "output_type": "execute_result"
    }
   ],
   "source": [
    "# Creating a new random forest classifier for the most important features. And applying grid search using the new classifier\n",
    "new_rnd=RandomForestClassifier()\n",
    "\n",
    "n_estimators = [100,150,200,250,300,350]\n",
    "max_depth = range(1,30)\n",
    "\n",
    "\n",
    "\n",
    "parameters = {'n_estimators':n_estimators, \n",
    "         'max_depth':max_depth, \n",
    "        }\n",
    "randomforest_gridnew = GridSearchCV(new_rnd,\n",
    "                                param_grid=parameters,\n",
    "                                 cv=StratifiedKFold(n_splits=20, random_state=15, shuffle=True),\n",
    "                                 n_jobs = -1\n",
    "                                )\n",
    "# Training the new classifier on the new dataset containing the most important features\n",
    "randomforest_gridnew.fit(X_important_train, y_train) "
   ]
  },
  {
   "cell_type": "code",
   "execution_count": 126,
   "metadata": {},
   "outputs": [
    {
     "name": "stdout",
     "output_type": "stream",
     "text": [
      "{'max_depth': 7, 'n_estimators': 300}\n",
      "0.9636363636363636\n",
      "RandomForestClassifier(bootstrap=True, ccp_alpha=0.0, class_weight=None,\n",
      "                       criterion='gini', max_depth=7, max_features='auto',\n",
      "                       max_leaf_nodes=None, max_samples=None,\n",
      "                       min_impurity_decrease=0.0, min_impurity_split=None,\n",
      "                       min_samples_leaf=1, min_samples_split=2,\n",
      "                       min_weight_fraction_leaf=0.0, n_estimators=300,\n",
      "                       n_jobs=None, oob_score=False, random_state=None,\n",
      "                       verbose=0, warm_start=False)\n"
     ]
    }
   ],
   "source": [
    "#predicting the best estimators and depth\n",
    "print(randomforest_gridnew.best_params_)\n",
    "print(randomforest_gridnew.best_score_)\n",
    "print(randomforest_gridnew.best_estimator_)"
   ]
  },
  {
   "cell_type": "markdown",
   "metadata": {},
   "source": [
    "***Performance of the new trained classifier on the test set***"
   ]
  },
  {
   "cell_type": "code",
   "execution_count": 130,
   "metadata": {},
   "outputs": [
    {
     "name": "stdout",
     "output_type": "stream",
     "text": [
      "0.08905911445617676\n"
     ]
    },
    {
     "data": {
      "text/plain": [
       "0.971830985915493"
      ]
     },
     "execution_count": 130,
     "metadata": {},
     "output_type": "execute_result"
    }
   ],
   "source": [
    "last_model=randomforest_gridnew.best_estimator_\n",
    "import time\n",
    "start = time.time()\n",
    "last_predictions =last_model.predict(X_important_test)\n",
    "end = time.time()\n",
    "eval_time = end-start\n",
    "print(eval_time)\n",
    "accuracy_score(y_test, last_predictions)"
   ]
  },
  {
   "cell_type": "code",
   "execution_count": 128,
   "metadata": {},
   "outputs": [],
   "source": [
    "with open('Pickles/last_model.pickle', 'wb') as output:\n",
    "    pickle.dump(last_model, output)"
   ]
  },
  {
   "cell_type": "markdown",
   "metadata": {},
   "source": [
    "<h1>Confusion Matrix"
   ]
  },
  {
   "cell_type": "code",
   "execution_count": 131,
   "metadata": {},
   "outputs": [
    {
     "name": "stdout",
     "output_type": "stream",
     "text": [
      "TN - True Negative 123\n",
      "FP - False Positive 1\n",
      "FN - False Negative 3\n",
      "TP - True Positive 15\n",
      "Accuracy Rate: 0.971830985915493\n",
      "Misclassification Rate: 0.028169014084507043\n",
      "ROC Score= 0.91263\n"
     ]
    }
   ],
   "source": [
    "#Confusion Matrix\n",
    "from sklearn.metrics import accuracy_score, roc_auc_score, roc_curve\n",
    "from sklearn.metrics import classification_report, confusion_matrix\n",
    "cm = confusion_matrix(y_test, last_predictions)\n",
    "\n",
    "print('TN - True Negative {}'.format(cm[0,0]))\n",
    "print('FP - False Positive {}'.format(cm[0,1]))\n",
    "print('FN - False Negative {}'.format(cm[1,0]))\n",
    "print('TP - True Positive {}'.format(cm[1,1]))\n",
    "print('Accuracy Rate: {}'.format(np.divide(np.sum([cm[0,0],cm[1,1]]),np.sum(cm))))\n",
    "print('Misclassification Rate: {}'.format(np.divide(np.sum([cm[0,1],cm[1,0]]),np.sum(cm))))\n",
    "\n",
    "roc=round(roc_auc_score(y_test, last_predictions),5)\n",
    "print(\"ROC Score=\",roc)"
   ]
  },
  {
   "cell_type": "code",
   "execution_count": 132,
   "metadata": {},
   "outputs": [
    {
     "name": "stdout",
     "output_type": "stream",
     "text": [
      "Accuracy Score : 0.971830985915493\n",
      "Precision Score : 0.9375\n",
      "Recall Score : 0.8333333333333334\n",
      "F1 Score : 0.8823529411764706\n"
     ]
    },
    {
     "data": {
      "text/plain": [
       "array([[123,   1],\n",
       "       [  3,  15]], dtype=int64)"
      ]
     },
     "execution_count": 132,
     "metadata": {},
     "output_type": "execute_result"
    }
   ],
   "source": [
    "from sklearn.metrics import accuracy_score,recall_score,precision_score,f1_score\n",
    "print('Accuracy Score : ' + str(accuracy_score(y_test, last_predictions)))\n",
    "print('Precision Score : ' + str(precision_score(y_test, last_predictions)))\n",
    "print('Recall Score : ' + str(recall_score(y_test, last_predictions)))\n",
    "print('F1 Score : ' + str(f1_score(y_test, last_predictions)))\n",
    "confusion_matrix(y_test, last_predictions)"
   ]
  },
  {
   "cell_type": "markdown",
   "metadata": {},
   "source": [
    "<h1>Extra Trees Classifier Implementation</h1>\n",
    "<br>\n",
    "One can also use Extra Trees Classifier instead of Random Forest Classifier. There is just a slight change in Computation Time"
   ]
  },
  {
   "cell_type": "code",
   "execution_count": 53,
   "metadata": {},
   "outputs": [
    {
     "data": {
      "text/plain": [
       "GridSearchCV(cv=StratifiedKFold(n_splits=20, random_state=15, shuffle=True),\n",
       "             error_score=nan,\n",
       "             estimator=ExtraTreesClassifier(bootstrap=False, ccp_alpha=0.0,\n",
       "                                            class_weight=None, criterion='gini',\n",
       "                                            max_depth=None, max_features='auto',\n",
       "                                            max_leaf_nodes=None,\n",
       "                                            max_samples=None,\n",
       "                                            min_impurity_decrease=0.0,\n",
       "                                            min_impurity_split=None,\n",
       "                                            min_samples_leaf=1,\n",
       "                                            min_samples_split=2,\n",
       "                                            min_weight_fraction_leaf=0.0,\n",
       "                                            n_estimators=100, n_jobs=None,\n",
       "                                            oob_score=False, random_state=None,\n",
       "                                            verbose=0, warm_start=False),\n",
       "             iid='deprecated', n_jobs=-1,\n",
       "             param_grid={'max_depth': range(1, 30),\n",
       "                         'n_estimators': [100, 150, 200, 250, 300, 350]},\n",
       "             pre_dispatch='2*n_jobs', refit=True, return_train_score=False,\n",
       "             scoring=None, verbose=0)"
      ]
     },
     "execution_count": 53,
     "metadata": {},
     "output_type": "execute_result"
    }
   ],
   "source": [
    "from sklearn.ensemble import ExtraTreesClassifier\n",
    "extra_clf= ExtraTreesClassifier()\n",
    "n_estimators = [100,150,200,250,300,350]\n",
    "max_depth = range(1,30)\n",
    "\n",
    "\n",
    "\n",
    "parameters = {'n_estimators':n_estimators, \n",
    "         'max_depth':max_depth, \n",
    "        }\n",
    "extratrees_gridnew = GridSearchCV(extra_clf,\n",
    "                                param_grid=parameters,\n",
    "                                 cv=StratifiedKFold(n_splits=20, random_state=15, shuffle=True),\n",
    "                                 n_jobs = -1\n",
    "                                )\n",
    "# Training the new classifier on the new dataset containing the most important features\n",
    "extratrees_gridnew.fit(X_important_train, y_train) \n"
   ]
  },
  {
   "cell_type": "code",
   "execution_count": 54,
   "metadata": {},
   "outputs": [
    {
     "name": "stdout",
     "output_type": "stream",
     "text": [
      "0.032022714614868164\n"
     ]
    },
    {
     "data": {
      "text/plain": [
       "0.971830985915493"
      ]
     },
     "execution_count": 54,
     "metadata": {},
     "output_type": "execute_result"
    }
   ],
   "source": [
    "# Applying the prediction on the important features test set\n",
    "start = time.time()\n",
    "lol = extratrees_gridnew.predict(X_important_test)\n",
    "end=time.time()\n",
    "eval_time=end-start\n",
    "print(eval_time)\n",
    "#y_important_pred = clf_important.predict(X_important_test)\n",
    "\n",
    "# Viewing The Accuracy Of Our Limited Feature Model\n",
    "accuracy_score(y_test, lol)"
   ]
  },
  {
   "cell_type": "code",
   "execution_count": 61,
   "metadata": {},
   "outputs": [
    {
     "data": {
      "image/png": "[encoded data removed]",
      "text/plain": [
       "<Figure size 1080x720 with 1 Axes>"
      ]
     },
     "metadata": {},
     "output_type": "display_data"
    }
   ],
   "source": [
    "from sklearn.metrics import roc_curve\n",
    "fpr,tpr,thresholds=roc_curve(y_test, y_important_pred)\n",
    "def plot_roc_curve(fpr,tpr,label=None):\n",
    "    plt.plot(fpr,tpr,linewidth=2,label=label)\n",
    "    plt.plot([0,1],[0,1],'k--')\n",
    "    [...]\n",
    "plot_roc_curve(fpr,tpr)\n",
    "plt.show()"
   ]
  },
  {
   "cell_type": "code",
   "execution_count": null,
   "metadata": {},
   "outputs": [],
   "source": [
    "def"
   ]
  }
 ],
 "metadata": {
  "kernelspec": {
   "display_name": "Python 3",
   "language": "python",
   "name": "python3"
  },
  "language_info": {
   "codemirror_mode": {
    "name": "ipython",
    "version": 3
   },
   "file_extension": ".py",
   "mimetype": "text/x-python",
   "name": "python",
   "nbconvert_exporter": "python",
   "pygments_lexer": "ipython3",
   "version": "3.7.1"
  }
 },
 "nbformat": 4,
 "nbformat_minor": 2
}
